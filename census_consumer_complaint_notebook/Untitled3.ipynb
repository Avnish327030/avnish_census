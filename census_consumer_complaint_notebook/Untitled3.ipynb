{
 "cells": [
  {
   "cell_type": "code",
   "execution_count": 21,
   "id": "68e954e7-1908-49a1-920e-5abe1c98866d",
   "metadata": {},
   "outputs": [],
   "source": [
    "import apache_beam as beam"
   ]
  },
  {
   "cell_type": "code",
   "execution_count": 22,
   "id": "c9d3d3de-73f6-495d-a40d-aa22380155c3",
   "metadata": {},
   "outputs": [],
   "source": [
    "columns=[\"id\",\"name\"]"
   ]
  },
  {
   "cell_type": "code",
   "execution_count": 26,
   "id": "4096145f-0bea-4dd8-9af4-8862d3ca259f",
   "metadata": {},
   "outputs": [
    {
     "name": "stderr",
     "output_type": "stream",
     "text": [
      "WARNING:root:Make sure that locally built Python SDK docker image has Python 3.7 interpreter.\n"
     ]
    },
    {
     "name": "stdout",
     "output_type": "stream",
     "text": [
      "1,\"Avnish\"\n",
      "2,\"asjdn\"\n",
      "1,\"Avnish\"\n",
      "2,\"asjdn\"\n",
      "1,\"Avnish\"\n",
      "2,\"asjdn\"\n",
      "1,\"Avnish\"\n",
      "2,\"asjdn\"\n",
      "1,\"Avnish\"\n",
      "2,\"asjdn\"\n",
      "1,\"Avnish\"\n",
      "2,\"asjdn\"\n",
      "1,\"Avnish\"\n",
      "2,\"asjdn\"\n",
      "1,\"Avnish\"\n",
      "2,\"asjdn\"\n",
      "1,\"Avnish\"\n",
      "2,\"asjdn\"\n",
      "1,\"Avnish\"\n",
      "2,\"asjdn\"\n"
     ]
    }
   ],
   "source": [
    "with beam.Pipeline() as p:\n",
    "    ( p | \"read\" >> beam.io.ReadFromText(\"avn.txt\",min_bundle_size=100,skip_header_lines=1)\n",
    "       \n",
    "         | \"print\" >> beam.Map(lambda x:print(x))\n",
    "     \n",
    "    )"
   ]
  },
  {
   "cell_type": "code",
   "execution_count": 29,
   "id": "687f74c4-476a-4969-8128-0f48793ca42b",
   "metadata": {},
   "outputs": [
    {
     "data": {
      "text/plain": [
       "2500000"
      ]
     },
     "execution_count": 29,
     "metadata": {},
     "output_type": "execute_result"
    }
   ],
   "source": [
    "500*5000"
   ]
  },
  {
   "cell_type": "code",
   "execution_count": null,
   "id": "e467604a-6b9c-4fed-8701-bc72fdf56856",
   "metadata": {},
   "outputs": [],
   "source": []
  }
 ],
 "metadata": {
  "kernelspec": {
   "display_name": "Python 3",
   "language": "python",
   "name": "python3"
  },
  "language_info": {
   "codemirror_mode": {
    "name": "ipython",
    "version": 3
   },
   "file_extension": ".py",
   "mimetype": "text/x-python",
   "name": "python",
   "nbconvert_exporter": "python",
   "pygments_lexer": "ipython3",
   "version": "3.7.0"
  }
 },
 "nbformat": 4,
 "nbformat_minor": 5
}
